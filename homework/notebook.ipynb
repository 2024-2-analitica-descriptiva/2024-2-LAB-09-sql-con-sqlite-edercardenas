{
 "cells": [
  {
   "cell_type": "code",
   "execution_count": 10,
   "metadata": {},
   "outputs": [],
   "source": [
    "import sqlite3\n",
    "import pandas as pd  # type: ignore"
   ]
  },
  {
   "cell_type": "code",
   "execution_count": 11,
   "metadata": {},
   "outputs": [],
   "source": [
    "def load_data():\n",
    "    \"\"\"Load data.\"\"\"\n",
    "    conn = sqlite3.connect(\":memory:\")\n",
    "    cur = conn.cursor()\n",
    "\n",
    "    with open(\"../tests/create_tables.sql\", encoding=\"utf-8\") as file:\n",
    "        cur.executescript(file.read())\n",
    "\n",
    "    return conn, cur"
   ]
  },
  {
   "cell_type": "code",
   "execution_count": 13,
   "metadata": {},
   "outputs": [
    {
     "data": {
      "text/plain": [
       "{\"strftime('%Y', c23)\": {0: '2016', 1: '2017', 2: '2018', 3: '2019'},\n",
       " 'avg(c21)': {0: 564.48, 1: 515.16, 2: 557.56, 3: 551.0}}"
      ]
     },
     "execution_count": 13,
     "metadata": {},
     "output_type": "execute_result"
    }
   ],
   "source": [
    "expected = {\n",
    "    \"strftime('%Y', c23)\": {0: \"2016\", 1: \"2017\", 2: \"2018\", 3: \"2019\"},\n",
    "    \"avg(c21)\": {\n",
    "        0: 564.48,\n",
    "        1: 515.16,\n",
    "        2: 557.56,\n",
    "        3: 551.00,\n",
    "    },\n",
    "}\n",
    "expected"
   ]
  },
  {
   "cell_type": "code",
   "execution_count": 12,
   "metadata": {},
   "outputs": [
    {
     "data": {
      "text/plain": [
       "{'YEAR': {0: '2016', 1: '2017', 2: '2018', 3: '2019'},\n",
       " 'round(AVG(c21),2)': {0: 564.48, 1: 515.16, 2: 557.56, 3: 551.0}}"
      ]
     },
     "execution_count": 12,
     "metadata": {},
     "output_type": "execute_result"
    }
   ],
   "source": [
    "conn, _ = load_data()\n",
    "with open(\"pregunta_08.sql\", encoding=\"utf-8\") as file:\n",
    "    query = file.read()\n",
    "result = pd.read_sql_query(query, conn).to_dict()\n",
    "result"
   ]
  },
  {
   "cell_type": "code",
   "execution_count": 14,
   "metadata": {},
   "outputs": [
    {
     "data": {
      "text/plain": [
       "{'K1': {0: 29},\n",
       " 'c21': {0: 101.11},\n",
       " 'c22': {0: 100},\n",
       " 'c23': {0: '2017-11-17'},\n",
       " 'c24': {0: 0.42},\n",
       " 'c25': {0: 'MV-CB'}}"
      ]
     },
     "execution_count": 14,
     "metadata": {},
     "output_type": "execute_result"
    }
   ],
   "source": [
    "# Pregunta 10\n",
    "expected = {\n",
    "    \"K1\": {0: 29},\n",
    "    \"c21\": {0: 101.11},\n",
    "    \"c22\": {0: 100},\n",
    "    \"c23\": {0: \"2017-11-17\"},\n",
    "    \"c24\": {0: 0.42},\n",
    "    \"c25\": {0: \"MV-CB\"},\n",
    "}\n",
    "expected"
   ]
  },
  {
   "cell_type": "code",
   "execution_count": 18,
   "metadata": {},
   "outputs": [
    {
     "data": {
      "text/plain": [
       "{'K0': {0: 'A', 1: 'C', 2: 'D', 3: 'F', 4: 'I'},\n",
       " 'c01': {0: 5000, 1: 1000, 2: 4000, 3: 2000, 4: 3000},\n",
       " 'c02': {0: 900, 1: 600, 2: 600, 3: 300, 4: 300},\n",
       " 'c03': {0: 'NMNJL', 1: 'LMMML', 2: 'PJLJL', 3: 'NNPJO', 4: 'PPPPL'},\n",
       " 'c04': {0: 0.4, 1: 0.2, 2: 0.4, 3: 0.3, 4: 0.3}}"
      ]
     },
     "execution_count": 18,
     "metadata": {},
     "output_type": "execute_result"
    }
   ],
   "source": [
    "# Pregunta 10\n",
    "\n",
    "conn, _ = load_data()\n",
    "with open(\"pregunta_10.sql\", encoding=\"utf-8\") as file:\n",
    "    query = file.read()\n",
    "result = pd.read_sql_query(query, conn).to_dict()\n",
    "result"
   ]
  },
  {
   "cell_type": "code",
   "execution_count": 27,
   "metadata": {},
   "outputs": [
    {
     "data": {
      "text/plain": [
       "False"
      ]
     },
     "execution_count": 27,
     "metadata": {},
     "output_type": "execute_result"
    }
   ],
   "source": [
    "result == expected"
   ]
  },
  {
   "cell_type": "code",
   "execution_count": 21,
   "metadata": {},
   "outputs": [
    {
     "data": {
      "text/plain": [
       "{'COUNT(*)': {0: 6}}"
      ]
     },
     "execution_count": 21,
     "metadata": {},
     "output_type": "execute_result"
    }
   ],
   "source": [
    "# Pregunta 11\n",
    "\n",
    "conn, _ = load_data()\n",
    "with open(\"pregunta_11.sql\", encoding=\"utf-8\") as file:\n",
    "    query = file.read()\n",
    "result = pd.read_sql_query(query, conn).to_dict()\n",
    "result"
   ]
  },
  {
   "cell_type": "code",
   "execution_count": 29,
   "metadata": {},
   "outputs": [
    {
     "data": {
      "text/plain": [
       "{'K0': {0: 'A', 1: 'B', 2: 'C', 3: 'D', 4: 'E'},\n",
       " 'MAX(c12)': {0: 938.16, 1: 999.72, 2: 822.81, 3: 756.37, 4: 832.44},\n",
       " 'MIN(c12)': {0: 135.8, 1: 283.4, 2: 267.42, 3: 317.77, 4: 118.77}}"
      ]
     },
     "execution_count": 29,
     "metadata": {},
     "output_type": "execute_result"
    }
   ],
   "source": [
    "# Pregunta 12\n",
    "\n",
    "conn, _ = load_data()\n",
    "with open(\"pregunta_12.sql\", encoding=\"utf-8\") as file:\n",
    "    query = file.read()\n",
    "result = pd.read_sql_query(query, conn).to_dict()\n",
    "result"
   ]
  },
  {
   "cell_type": "code",
   "execution_count": 26,
   "metadata": {},
   "outputs": [
    {
     "data": {
      "text/plain": [
       "{'K0': {0: 'A', 1: 'B', 2: 'C', 3: 'D', 4: 'E'},\n",
       " 'MAX(c12)': {0: 938.16, 1: 999.72, 2: 822.81, 3: 756.37, 4: 832.44},\n",
       " 'MIN(c12)': {0: 135.8, 1: 283.4, 2: 267.42, 3: 317.77, 4: 118.77}}"
      ]
     },
     "execution_count": 26,
     "metadata": {},
     "output_type": "execute_result"
    }
   ],
   "source": [
    "expected = {\n",
    "    \"K0\": {0: \"A\", 1: \"B\", 2: \"C\", 3: \"D\", 4: \"E\"},\n",
    "    \"MAX(c12)\": {0: 938.16, 1: 999.72, 2: 822.81, 3: 756.37, 4: 832.44},\n",
    "    \"MIN(c12)\": {0: 135.8, 1: 283.4, 2: 267.42, 3: 317.77, 4: 118.77},\n",
    "}\n",
    "expected"
   ]
  },
  {
   "cell_type": "code",
   "execution_count": 35,
   "metadata": {},
   "outputs": [
    {
     "data": {
      "text/plain": [
       "True"
      ]
     },
     "execution_count": 35,
     "metadata": {},
     "output_type": "execute_result"
    }
   ],
   "source": [
    "result == expected"
   ]
  },
  {
   "cell_type": "code",
   "execution_count": 34,
   "metadata": {},
   "outputs": [
    {
     "data": {
      "text/plain": [
       "{'K0': {0: 'A', 1: 'B', 2: 'C', 3: 'D', 4: 'E'},\n",
       " 'avg(c12)': {0: 476.16, 1: 536.52, 2: 490.83, 3: 709.53, 4: 474.83}}"
      ]
     },
     "execution_count": 34,
     "metadata": {},
     "output_type": "execute_result"
    }
   ],
   "source": [
    "# Pregunta 13\n",
    "conn, _ = load_data()\n",
    "with open(\"pregunta_13.sql\", encoding=\"utf-8\") as file:\n",
    "    query = file.read()\n",
    "result = pd.read_sql_query(query, conn).to_dict()\n",
    "result"
   ]
  },
  {
   "cell_type": "code",
   "execution_count": 33,
   "metadata": {},
   "outputs": [
    {
     "data": {
      "text/plain": [
       "{'K0': {0: 'A', 1: 'B', 2: 'C', 3: 'D', 4: 'E'},\n",
       " 'avg(c12)': {0: 476.16, 1: 536.52, 2: 490.83, 3: 709.53, 4: 474.83}}"
      ]
     },
     "execution_count": 33,
     "metadata": {},
     "output_type": "execute_result"
    }
   ],
   "source": [
    "expected = {\n",
    "    \"K0\": {0: \"A\", 1: \"B\", 2: \"C\", 3: \"D\", 4: \"E\"},\n",
    "    \"avg(c12)\": {\n",
    "        0: 476.16,\n",
    "        1: 536.52,\n",
    "        2: 490.83,\n",
    "        3: 709.53,\n",
    "        4: 474.83,\n",
    "    },\n",
    "}\n",
    "expected"
   ]
  }
 ],
 "metadata": {
  "kernelspec": {
   "display_name": ".venv",
   "language": "python",
   "name": "python3"
  },
  "language_info": {
   "codemirror_mode": {
    "name": "ipython",
    "version": 3
   },
   "file_extension": ".py",
   "mimetype": "text/x-python",
   "name": "python",
   "nbconvert_exporter": "python",
   "pygments_lexer": "ipython3",
   "version": "3.10.9"
  }
 },
 "nbformat": 4,
 "nbformat_minor": 2
}
